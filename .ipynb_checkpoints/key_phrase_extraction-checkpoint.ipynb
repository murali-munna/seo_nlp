{
 "cells": [
  {
   "cell_type": "markdown",
   "id": "81a57639-b80a-4dde-866d-d8a780648c07",
   "metadata": {},
   "source": [
    "# Experiments on Key Phrase Extraction Techniques\n",
    "Explore KeyBERT with various design choices -\n",
    "* ways to generate initial candidates - spacy noun phrases, bart-base-keyphrase-generation, simple n-grams (what KeyBERT does)\n",
    "* different sentence transformer models for doc and candidate phrase embeddings\n",
    "* diversification - Max Sum Similarity, Maximal Marginal Relevance"
   ]
  },
  {
   "cell_type": "code",
   "execution_count": 75,
   "id": "428ccc2f-9805-4f05-b174-9d8a21b22d84",
   "metadata": {},
   "outputs": [],
   "source": [
    "# Setup\n",
    "import json\n",
    "import numpy as np\n",
    "import pandas as pd\n",
    "from sklearn.datasets import fetch_20newsgroups\n",
    "from keybert import KeyBERT\n",
    "from sklearn.model_selection import ParameterGrid"
   ]
  },
  {
   "cell_type": "markdown",
   "id": "49bc911d-0fd8-4820-b96e-8328846b55c3",
   "metadata": {},
   "source": [
    "## Data"
   ]
  },
  {
   "cell_type": "code",
   "execution_count": 2,
   "id": "807cc0bd-4d57-4d41-bfb5-888de0c99d7c",
   "metadata": {},
   "outputs": [],
   "source": [
    "# Using the standard 20-newsgroups dataset which has categories\n",
    "# Also plan to KPE on our medium blogs"
   ]
  },
  {
   "cell_type": "code",
   "execution_count": 3,
   "id": "40164348-2a94-4919-beb9-a365c2fdf5ea",
   "metadata": {},
   "outputs": [],
   "source": [
    "# newsgroups_train = fetch_20newsgroups(subset='train') #remove=('headers', 'footers', 'quotes')"
   ]
  },
  {
   "cell_type": "code",
   "execution_count": 4,
   "id": "6a038150-3017-4a2c-95fd-26ae56ccd0c2",
   "metadata": {},
   "outputs": [],
   "source": [
    "# list(newsgroups_train.target_names)\n",
    "# newsgroups_train.filenames\n",
    "# newsgroups_train.data[345]"
   ]
  },
  {
   "cell_type": "markdown",
   "id": "9293acd8-ad55-495c-8c3c-68d71fe9048e",
   "metadata": {},
   "source": [
    "### Getting scraped medium articles"
   ]
  },
  {
   "cell_type": "code",
   "execution_count": 5,
   "id": "81904d89-2fe0-4895-a5a2-a08d4fea9a90",
   "metadata": {},
   "outputs": [],
   "source": [
    "# !python data_extract.py"
   ]
  },
  {
   "cell_type": "code",
   "execution_count": 6,
   "id": "e896e948-e8fd-48f7-925e-11653d9cb12f",
   "metadata": {},
   "outputs": [],
   "source": [
    "with open('data/medium_scraped_data.json', 'r') as fp:\n",
    "    data = json.load(fp)"
   ]
  },
  {
   "cell_type": "markdown",
   "id": "343016ad-ec49-4149-91b0-807d74602471",
   "metadata": {},
   "source": [
    "## Phrase Extraction"
   ]
  },
  {
   "cell_type": "markdown",
   "id": "6d82eb46-12cb-4c8e-91f6-be7621fb8d83",
   "metadata": {},
   "source": [
    "### KeyBERT"
   ]
  },
  {
   "cell_type": "code",
   "execution_count": 62,
   "id": "2a6e7743-c2ce-4a63-90ef-c9d9154bd704",
   "metadata": {},
   "outputs": [
    {
     "name": "stdout",
     "output_type": "stream",
     "text": [
      "questgen-an-open-source-nlp-library-for-question-generation-algorithms-1e18067fcdc6\n"
     ]
    },
    {
     "data": {
      "application/vnd.jupyter.widget-view+json": {
       "model_id": "29abdd79bb62407c88f04cbab3569d30",
       "version_major": 2,
       "version_minor": 0
      },
      "text/plain": [
       "Downloading:   0%|          | 0.00/737 [00:00<?, ?B/s]"
      ]
     },
     "metadata": {},
     "output_type": "display_data"
    },
    {
     "data": {
      "application/vnd.jupyter.widget-view+json": {
       "model_id": "70d9d0f8194b4fad934b5870d58be161",
       "version_major": 2,
       "version_minor": 0
      },
      "text/plain": [
       "Downloading:   0%|          | 0.00/9.20k [00:00<?, ?B/s]"
      ]
     },
     "metadata": {},
     "output_type": "display_data"
    },
    {
     "data": {
      "application/vnd.jupyter.widget-view+json": {
       "model_id": "3f1ee1a6b82748d8bdeff0badd7a6724",
       "version_major": 2,
       "version_minor": 0
      },
      "text/plain": [
       "Downloading:   0%|          | 0.00/523 [00:00<?, ?B/s]"
      ]
     },
     "metadata": {},
     "output_type": "display_data"
    },
    {
     "data": {
      "application/vnd.jupyter.widget-view+json": {
       "model_id": "4cb9e1565abb401cac249db4cfd3abbe",
       "version_major": 2,
       "version_minor": 0
      },
      "text/plain": [
       "Downloading:   0%|          | 0.00/116 [00:00<?, ?B/s]"
      ]
     },
     "metadata": {},
     "output_type": "display_data"
    },
    {
     "data": {
      "application/vnd.jupyter.widget-view+json": {
       "model_id": "41828eff56a3499cbbba95af3e77e088",
       "version_major": 2,
       "version_minor": 0
      },
      "text/plain": [
       "Downloading:   0%|          | 0.00/25.5k [00:00<?, ?B/s]"
      ]
     },
     "metadata": {},
     "output_type": "display_data"
    },
    {
     "data": {
      "application/vnd.jupyter.widget-view+json": {
       "model_id": "2a767e929b83437096cdfeaa44b4d92e",
       "version_major": 2,
       "version_minor": 0
      },
      "text/plain": [
       "Downloading:   0%|          | 0.00/349 [00:00<?, ?B/s]"
      ]
     },
     "metadata": {},
     "output_type": "display_data"
    },
    {
     "data": {
      "application/vnd.jupyter.widget-view+json": {
       "model_id": "ae20dda645ed4aa09324fdc9c00f62d3",
       "version_major": 2,
       "version_minor": 0
      },
      "text/plain": [
       "Downloading:   0%|          | 0.00/265M [00:00<?, ?B/s]"
      ]
     },
     "metadata": {},
     "output_type": "display_data"
    },
    {
     "data": {
      "application/vnd.jupyter.widget-view+json": {
       "model_id": "fd17716e374f4670a3916420d4e65423",
       "version_major": 2,
       "version_minor": 0
      },
      "text/plain": [
       "Downloading:   0%|          | 0.00/53.0 [00:00<?, ?B/s]"
      ]
     },
     "metadata": {},
     "output_type": "display_data"
    },
    {
     "data": {
      "application/vnd.jupyter.widget-view+json": {
       "model_id": "bb6c8088ef624018a84bda750d5eb2c5",
       "version_major": 2,
       "version_minor": 0
      },
      "text/plain": [
       "Downloading:   0%|          | 0.00/112 [00:00<?, ?B/s]"
      ]
     },
     "metadata": {},
     "output_type": "display_data"
    },
    {
     "data": {
      "application/vnd.jupyter.widget-view+json": {
       "model_id": "3ca589e2da0245afb6a0eb255a88e2e6",
       "version_major": 2,
       "version_minor": 0
      },
      "text/plain": [
       "Downloading:   0%|          | 0.00/466k [00:00<?, ?B/s]"
      ]
     },
     "metadata": {},
     "output_type": "display_data"
    },
    {
     "data": {
      "application/vnd.jupyter.widget-view+json": {
       "model_id": "3ee638589e4f4f1e9ca63b0a663fee7c",
       "version_major": 2,
       "version_minor": 0
      },
      "text/plain": [
       "Downloading:   0%|          | 0.00/333 [00:00<?, ?B/s]"
      ]
     },
     "metadata": {},
     "output_type": "display_data"
    },
    {
     "data": {
      "application/vnd.jupyter.widget-view+json": {
       "model_id": "fe6e1dfdb68549e7a4521b7f87697dbb",
       "version_major": 2,
       "version_minor": 0
      },
      "text/plain": [
       "Downloading:   0%|          | 0.00/13.8k [00:00<?, ?B/s]"
      ]
     },
     "metadata": {},
     "output_type": "display_data"
    },
    {
     "data": {
      "application/vnd.jupyter.widget-view+json": {
       "model_id": "6271ab881c644fcdbb4c2c8387bbaf6d",
       "version_major": 2,
       "version_minor": 0
      },
      "text/plain": [
       "Downloading:   0%|          | 0.00/232k [00:00<?, ?B/s]"
      ]
     },
     "metadata": {},
     "output_type": "display_data"
    },
    {
     "data": {
      "application/vnd.jupyter.widget-view+json": {
       "model_id": "6fe71fa813a44962ae526a89abc57f5d",
       "version_major": 2,
       "version_minor": 0
      },
      "text/plain": [
       "Downloading:   0%|          | 0.00/190 [00:00<?, ?B/s]"
      ]
     },
     "metadata": {},
     "output_type": "display_data"
    }
   ],
   "source": [
    "i = 1\n",
    "doc_name = list(data.keys())[i]\n",
    "print(doc_name)\n",
    "doc_text = list(data.values())[i]\n",
    "kw_model = KeyBERT(model='multi-qa-distilbert-cos-v1')"
   ]
  },
  {
   "cell_type": "code",
   "execution_count": 63,
   "id": "d2b8de71-c506-4bc9-9589-da64e6d9a47f",
   "metadata": {},
   "outputs": [
    {
     "data": {
      "text/plain": [
       "[('question generation', 0.7528),\n",
       " ('natural language processing', 0.4861),\n",
       " ('the t5 transformer', 0.1793),\n",
       " ('quick assessments from', 0.3247),\n",
       " ('questgen ai github', 0.2876),\n",
       " ('answering is', 0.2679),\n",
       " ('library are mcqs', 0.2602),\n",
       " ('during covid 19', 0.0579),\n",
       " ('other awesome interns', 0.2034),\n",
       " ('models from scratch', 0.2411)]"
      ]
     },
     "execution_count": 63,
     "metadata": {},
     "output_type": "execute_result"
    }
   ],
   "source": [
    "keywords = kw_model.extract_keywords(doc_text, \n",
    "                                     keyphrase_ngram_range=(1, 3), \n",
    "                                     stop_words=None, \n",
    "                                     top_n = 10,\n",
    "                                     use_maxsum=False, nr_candidates=20,\n",
    "                                     use_mmr=True, diversity=0.5)\n",
    "keywords"
   ]
  },
  {
   "cell_type": "code",
   "execution_count": 85,
   "id": "9c87d1cf-fb5e-4a97-9315-995a3386984b",
   "metadata": {},
   "outputs": [],
   "source": [
    "# Getting results for multiple combinations\n",
    "param_grid = ParameterGrid(\n",
    "    {'model': ['all-mpnet-base-v2', \n",
    "          'multi-qa-mpnet-base-dot-v1',\n",
    "          'all-distilroberta-v1',\n",
    "          'all-MiniLM-L12-v2',\n",
    "          'multi-qa-distilbert-cos-v1',\n",
    "          'all-MiniLM-L6-v2'],\n",
    "     'ngram_range': [(1,2), (1,3)],\n",
    "     'include_maxsum': [True, False],\n",
    "     'include_mmr': [True, False]\n",
    "    })"
   ]
  },
  {
   "cell_type": "code",
   "execution_count": null,
   "id": "d2334387-f6f6-40d4-b190-5cf2bd4f7bd5",
   "metadata": {},
   "outputs": [
    {
     "name": "stdout",
     "output_type": "stream",
     "text": [
      "3-ways-to-generate-distractors-wrong-choices-for-mcqs-using-natural-language-processing-d52477a56812\n",
      "questgen-an-open-source-nlp-library-for-question-generation-algorithms-1e18067fcdc6\n"
     ]
    }
   ],
   "source": [
    "result = []\n",
    "for doc_name, doc_text in data.items():\n",
    "    \n",
    "    print(doc_name)\n",
    "    for param in param_grid:\n",
    "        if param['include_maxsum'] and param['include_mmr']:\n",
    "            continue\n",
    "\n",
    "        kw_model = KeyBERT(model=param['model'])\n",
    "        \n",
    "        keywords = kw_model.extract_keywords(doc_text, \n",
    "                                     keyphrase_ngram_range=param['ngram_range'], \n",
    "                                     stop_words=None, \n",
    "                                     top_n = 10,\n",
    "                                     use_maxsum=param['include_maxsum'], nr_candidates=20,\n",
    "                                     use_mmr=param['include_mmr'], diversity=0.5)\n",
    "        keywords = list(zip(*keywords))[0]\n",
    "        \n",
    "        result.append([doc_name, param['model'], param['ngram_range'], param['include_maxsum'], param['include_mmr'], keywords])\n"
   ]
  },
  {
   "cell_type": "code",
   "execution_count": null,
   "id": "620cc612-f380-45df-9c4f-0db52fc6cfda",
   "metadata": {},
   "outputs": [],
   "source": [
    "result_df = pd.DataFrame(result, columns=['doc', 'model', 'ngram', 'maxsum_diversity', 'mmr_diversity', 'keywords'])"
   ]
  },
  {
   "cell_type": "code",
   "execution_count": 80,
   "id": "73700fc7-bc98-441b-82cd-6a49a7b53239",
   "metadata": {},
   "outputs": [],
   "source": [
    "result_df.to_csv('results/keybert_experiments.csv', index=False)"
   ]
  },
  {
   "cell_type": "code",
   "execution_count": 84,
   "id": "56de07b7-dd5b-4fd0-8778-d6b5071d8a97",
   "metadata": {},
   "outputs": [
    {
     "data": {
      "text/plain": [
       "('distractors using wordnet',\n",
       " 'generating distractors using',\n",
       " 'generating distractors for',\n",
       " 'generating distractors',\n",
       " 'generate distractors using',\n",
       " 'efficient distractors',\n",
       " 'efficient distractors for',\n",
       " 'answer distractors',\n",
       " 'generate distractors',\n",
       " 'distractors for given')"
      ]
     },
     "execution_count": 84,
     "metadata": {},
     "output_type": "execute_result"
    }
   ],
   "source": [
    "list(zip(*keywords))[0]"
   ]
  },
  {
   "cell_type": "code",
   "execution_count": null,
   "id": "5762031c-e15d-45db-b39e-2f6b250adce6",
   "metadata": {},
   "outputs": [],
   "source": []
  }
 ],
 "metadata": {
  "kernelspec": {
   "display_name": "Python 3",
   "language": "python",
   "name": "python3"
  },
  "language_info": {
   "codemirror_mode": {
    "name": "ipython",
    "version": 3
   },
   "file_extension": ".py",
   "mimetype": "text/x-python",
   "name": "python",
   "nbconvert_exporter": "python",
   "pygments_lexer": "ipython3",
   "version": "3.8.8"
  }
 },
 "nbformat": 4,
 "nbformat_minor": 5
}
