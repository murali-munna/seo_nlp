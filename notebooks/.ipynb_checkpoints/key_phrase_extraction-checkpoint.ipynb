{
 "cells": [
  {
   "cell_type": "markdown",
   "id": "81a57639-b80a-4dde-866d-d8a780648c07",
   "metadata": {},
   "source": [
    "# Experiments on Key Phrase Extraction Techniques\n",
    "Explore KeyBERT with various design choices -\n",
    "* ways to generate initial candidates - spacy noun phrases, bart-base-keyphrase-generation, simple n-grams (what KeyBERT does)\n",
    "* different sentence transformer models for doc and candidate phrase embeddings\n",
    "* diversification - Max Sum Similarity, Maximal Marginal Relevance"
   ]
  },
  {
   "cell_type": "code",
   "execution_count": 2,
   "id": "428ccc2f-9805-4f05-b174-9d8a21b22d84",
   "metadata": {},
   "outputs": [],
   "source": [
    "# Setup\n",
    "import numpy as np\n",
    "from sklearn.datasets import fetch_20newsgroups"
   ]
  },
  {
   "cell_type": "markdown",
   "id": "49bc911d-0fd8-4820-b96e-8328846b55c3",
   "metadata": {},
   "source": [
    "## Data"
   ]
  },
  {
   "cell_type": "code",
   "execution_count": 1,
   "id": "807cc0bd-4d57-4d41-bfb5-888de0c99d7c",
   "metadata": {},
   "outputs": [],
   "source": [
    "# Using the standard 20-newsgroups dataset which has categories\n",
    "# Also plan to KPE on our medium blogs"
   ]
  },
  {
   "cell_type": "code",
   "execution_count": 21,
   "id": "40164348-2a94-4919-beb9-a365c2fdf5ea",
   "metadata": {},
   "outputs": [],
   "source": [
    "newsgroups_train = fetch_20newsgroups(subset='train') #remove=('headers', 'footers', 'quotes')"
   ]
  },
  {
   "cell_type": "code",
   "execution_count": 22,
   "id": "6a038150-3017-4a2c-95fd-26ae56ccd0c2",
   "metadata": {},
   "outputs": [
    {
     "data": {
      "text/plain": [
       "['alt.atheism',\n",
       " 'comp.graphics',\n",
       " 'comp.os.ms-windows.misc',\n",
       " 'comp.sys.ibm.pc.hardware',\n",
       " 'comp.sys.mac.hardware',\n",
       " 'comp.windows.x',\n",
       " 'misc.forsale',\n",
       " 'rec.autos',\n",
       " 'rec.motorcycles',\n",
       " 'rec.sport.baseball',\n",
       " 'rec.sport.hockey',\n",
       " 'sci.crypt',\n",
       " 'sci.electronics',\n",
       " 'sci.med',\n",
       " 'sci.space',\n",
       " 'soc.religion.christian',\n",
       " 'talk.politics.guns',\n",
       " 'talk.politics.mideast',\n",
       " 'talk.politics.misc',\n",
       " 'talk.religion.misc']"
      ]
     },
     "execution_count": 22,
     "metadata": {},
     "output_type": "execute_result"
    }
   ],
   "source": [
    "list(newsgroups_train.target_names)"
   ]
  },
  {
   "cell_type": "code",
   "execution_count": 23,
   "id": "b3fe22c8-f911-46b1-a946-6bea6658f464",
   "metadata": {},
   "outputs": [
    {
     "data": {
      "text/plain": [
       "array(['C:\\\\Users\\\\DELL\\\\scikit_learn_data\\\\20news_home\\\\20news-bydate-train\\\\rec.autos\\\\102994',\n",
       "       'C:\\\\Users\\\\DELL\\\\scikit_learn_data\\\\20news_home\\\\20news-bydate-train\\\\comp.sys.mac.hardware\\\\51861',\n",
       "       'C:\\\\Users\\\\DELL\\\\scikit_learn_data\\\\20news_home\\\\20news-bydate-train\\\\comp.sys.mac.hardware\\\\51879',\n",
       "       ...,\n",
       "       'C:\\\\Users\\\\DELL\\\\scikit_learn_data\\\\20news_home\\\\20news-bydate-train\\\\comp.sys.ibm.pc.hardware\\\\60695',\n",
       "       'C:\\\\Users\\\\DELL\\\\scikit_learn_data\\\\20news_home\\\\20news-bydate-train\\\\comp.graphics\\\\38319',\n",
       "       'C:\\\\Users\\\\DELL\\\\scikit_learn_data\\\\20news_home\\\\20news-bydate-train\\\\rec.motorcycles\\\\104440'],\n",
       "      dtype='<U94')"
      ]
     },
     "execution_count": 23,
     "metadata": {},
     "output_type": "execute_result"
    }
   ],
   "source": [
    "newsgroups_train.filenames"
   ]
  },
  {
   "cell_type": "code",
   "execution_count": 24,
   "id": "113b439f-2147-4966-a763-0a7f79f8d792",
   "metadata": {},
   "outputs": [
    {
     "data": {
      "text/plain": [
       "\"From: gaf5@ns1.cc.lehigh.edu (Gail A. Fullman)\\nSubject: Re: PHILLIES SIGN MARK DAVIS\\nOrganization: Lehigh University\\nLines: 19\\n\\n\\n>> Does that mean they have to pay his salary?  Didn't they wait\\n>> for him to clear waivers?  If not, why not?\\n>>\\nDavis will be paid by three clubs this year, I think the Phils are\\nresponsbible for about $600,000 or so.  They didn't wait for him to clear\\nwaivers as three other clubs were also very interested in him.  A gamble?\\nYes.\\n\\n>> Oh, it will?  As a Royals fan, I am skeptical.  They say he pitched well\\n>> in winter ball.  He also pitched well at Omaha while with KC.  He just\\n>> didn't pitch well (or even acceptably) when in the majors.  (I don't have\\n>> his Atlanta stats, but he must not have impressed them very much either.)\\n>\\n>What about the year when he got 40+ saves in San Diego, did he pitch well\\n>then?  Ok, I know he was awful the next year when he went to KC but still...\\n>\\nWon the CY Young, too, for that year.\\n-- \\n\""
      ]
     },
     "execution_count": 24,
     "metadata": {},
     "output_type": "execute_result"
    }
   ],
   "source": [
    "newsgroups_train.data[345]"
   ]
  },
  {
   "cell_type": "code",
   "execution_count": null,
   "id": "162d69c8-9490-4757-986b-15134bda8e52",
   "metadata": {},
   "outputs": [],
   "source": []
  }
 ],
 "metadata": {
  "kernelspec": {
   "display_name": "Python 3 (ipykernel)",
   "language": "python",
   "name": "python3"
  },
  "language_info": {
   "codemirror_mode": {
    "name": "ipython",
    "version": 3
   },
   "file_extension": ".py",
   "mimetype": "text/x-python",
   "name": "python",
   "nbconvert_exporter": "python",
   "pygments_lexer": "ipython3",
   "version": "3.8.11"
  }
 },
 "nbformat": 4,
 "nbformat_minor": 5
}
